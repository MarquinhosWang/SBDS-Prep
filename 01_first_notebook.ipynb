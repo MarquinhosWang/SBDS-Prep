{
 "cells": [
  {
   "cell_type": "markdown",
   "id": "1c300f05",
   "metadata": {},
   "source": [
    "# Introduction\n",
    "This is my *first* Jupyter notebook\n"
   ]
  },
  {
   "cell_type": "code",
   "execution_count": 8,
   "id": "c3dffa70",
   "metadata": {},
   "outputs": [],
   "source": [
    "x = 5\n",
    "y = 6 \n",
    "z = x + y"
   ]
  },
  {
   "cell_type": "code",
   "execution_count": 9,
   "id": "1d821a81",
   "metadata": {},
   "outputs": [
    {
     "name": "stdout",
     "output_type": "stream",
     "text": [
      "11\n"
     ]
    }
   ],
   "source": [
    "print(z)"
   ]
  },
  {
   "cell_type": "code",
   "execution_count": null,
   "id": "12e3ae46",
   "metadata": {},
   "outputs": [],
   "source": []
  }
 ],
 "metadata": {
  "kernelspec": {
   "display_name": "Python 3 (ipykernel)",
   "language": "python",
   "name": "python3"
  },
  "language_info": {
   "codemirror_mode": {
    "name": "ipython",
    "version": 3
   },
   "file_extension": ".py",
   "mimetype": "text/x-python",
   "name": "python",
   "nbconvert_exporter": "python",
   "pygments_lexer": "ipython3",
   "version": "3.9.7"
  }
 },
 "nbformat": 4,
 "nbformat_minor": 5
}
